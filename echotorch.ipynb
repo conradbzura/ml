{
 "cells": [
  {
   "cell_type": "code",
   "execution_count": 2,
   "id": "8e9985ac",
   "metadata": {},
   "outputs": [
    {
     "ename": "ModuleNotFoundError",
     "evalue": "No module named 'datasets'",
     "output_type": "error",
     "traceback": [
      "\u001b[31m---------------------------------------------------------------------------\u001b[39m",
      "\u001b[31mModuleNotFoundError\u001b[39m                       Traceback (most recent call last)",
      "\u001b[36mCell\u001b[39m\u001b[36m \u001b[39m\u001b[32mIn[2]\u001b[39m\u001b[32m, line 4\u001b[39m\n\u001b[32m      2\u001b[39m \u001b[38;5;28;01mimport\u001b[39;00m\u001b[38;5;250m \u001b[39m\u001b[34;01mnumpy\u001b[39;00m\u001b[38;5;250m \u001b[39m\u001b[38;5;28;01mas\u001b[39;00m\u001b[38;5;250m \u001b[39m\u001b[34;01mnp\u001b[39;00m\n\u001b[32m      3\u001b[39m \u001b[38;5;28;01mimport\u001b[39;00m\u001b[38;5;250m \u001b[39m\u001b[34;01mmatplotlib\u001b[39;00m\u001b[34;01m.\u001b[39;00m\u001b[34;01mpyplot\u001b[39;00m\u001b[38;5;250m \u001b[39m\u001b[38;5;28;01mas\u001b[39;00m\u001b[38;5;250m \u001b[39m\u001b[34;01mplt\u001b[39;00m\n\u001b[32m----> \u001b[39m\u001b[32m4\u001b[39m \u001b[38;5;28;01mfrom\u001b[39;00m\u001b[38;5;250m \u001b[39m\u001b[34;01mechotorch\u001b[39;00m\u001b[34;01m.\u001b[39;00m\u001b[34;01mmodels\u001b[39;00m\u001b[38;5;250m \u001b[39m\u001b[38;5;28;01mimport\u001b[39;00m LeakyESN\n",
      "\u001b[36mFile \u001b[39m\u001b[32m~/Projects/conradbzura/ml/.venv/lib/python3.13/site-packages/echotorch/__init__.py:5\u001b[39m\n\u001b[32m      1\u001b[39m \u001b[38;5;66;03m# -*- coding: utf-8 -*-\u001b[39;00m\n\u001b[32m      2\u001b[39m \u001b[38;5;66;03m#\u001b[39;00m\n\u001b[32m      3\u001b[39m \n\u001b[32m      4\u001b[39m \u001b[38;5;66;03m# Imports\u001b[39;00m\n\u001b[32m----> \u001b[39m\u001b[32m5\u001b[39m \u001b[38;5;28;01mimport\u001b[39;00m\u001b[38;5;250m \u001b[39m\u001b[34;01mdatasets\u001b[39;00m\n\u001b[32m      6\u001b[39m \u001b[38;5;28;01mimport\u001b[39;00m\u001b[38;5;250m \u001b[39m\u001b[34;01mmodels\u001b[39;00m\n\u001b[32m      7\u001b[39m \u001b[38;5;28;01mimport\u001b[39;00m\u001b[38;5;250m \u001b[39m\u001b[34;01mnn\u001b[39;00m\n",
      "\u001b[31mModuleNotFoundError\u001b[39m: No module named 'datasets'"
     ]
    }
   ],
   "source": [
    "import torch\n",
    "import numpy as np\n",
    "import matplotlib.pyplot as plt\n",
    "from echotorch.models import LeakyESN"
   ]
  },
  {
   "cell_type": "code",
   "execution_count": null,
   "id": "2b9e6128",
   "metadata": {},
   "outputs": [],
   "source": [
    "# --- Generate Sample Data (Sine Wave) ---\n",
    "data_len = 200\n",
    "t = np.linspace(0, 20, data_len)\n",
    "data = np.sin(t)\n",
    "\n",
    "# The input is the sequence, the target is the sequence shifted by one step\n",
    "input_data = data[:-1]\n",
    "target_data = data[1:]\n",
    "\n",
    "# --- Reshape data for EchoTorch ---\n",
    "# Shape: (num_sequences, sequence_length, num_features)\n",
    "X = torch.from_numpy(input_data).float().view(1, -1, 1)\n",
    "y = torch.from_numpy(target_data).float().view(1, -1, 1)\n",
    "\n",
    "print(f\"Input shape: {X.shape}\")\n",
    "print(f\"Target shape: {y.shape}\")"
   ]
  },
  {
   "cell_type": "code",
   "execution_count": null,
   "id": "cb3794ec",
   "metadata": {},
   "outputs": [],
   "source": [
    "# --- ESN Parameters ---\n",
    "input_size = 1\n",
    "reservoir_size = 100\n",
    "output_size = 1\n",
    "spectral_radius = 0.99\n",
    "leaky_rate = 0.2  # Leaking rate (alpha) for the reservoir\n",
    "washout_period = 20\n",
    "\n",
    "# --- Create and Train the ESN ---\n",
    "# 1. Instantiate the model\n",
    "esn = LeakyESN(\n",
    "    input_size=input_size,\n",
    "    n_neurons=reservoir_size,\n",
    "    output_size=output_size,\n",
    "    spectral_radius=spectral_radius,\n",
    "    leaky_rate=leaky_rate,\n",
    "    washout_time=washout_period,\n",
    ")\n",
    "\n",
    "# 2. Train the model using the .fit() method\n",
    "# The fit method handles state collection and solves for the output weights.\n",
    "esn.fit(X, y)"
   ]
  },
  {
   "cell_type": "code",
   "execution_count": null,
   "id": "3bdb32aa",
   "metadata": {},
   "outputs": [],
   "source": [
    "# --- Generate Predictions ---\n",
    "# The predict method uses the trained readout layer to generate the output\n",
    "y_pred = esn.predict(X)\n",
    "\n",
    "# Squeeze the unnecessary dimensions for plotting\n",
    "predictions = y_pred.squeeze().numpy()"
   ]
  }
 ],
 "metadata": {
  "kernelspec": {
   "display_name": ".venv",
   "language": "python",
   "name": "python3"
  },
  "language_info": {
   "codemirror_mode": {
    "name": "ipython",
    "version": 3
   },
   "file_extension": ".py",
   "mimetype": "text/x-python",
   "name": "python",
   "nbconvert_exporter": "python",
   "pygments_lexer": "ipython3",
   "version": "3.13.3"
  }
 },
 "nbformat": 4,
 "nbformat_minor": 5
}
