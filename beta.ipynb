{
 "cells": [
  {
   "cell_type": "code",
   "execution_count": 1,
   "id": "1983326b",
   "metadata": {},
   "outputs": [],
   "source": [
    "import reservoirpy as rpy\n",
    "\n",
    "rpy.verbosity(0)\n",
    "rpy.set_seed(500)"
   ]
  },
  {
   "cell_type": "code",
   "execution_count": 2,
   "id": "5e8a914b",
   "metadata": {},
   "outputs": [
    {
     "data": {
      "text/plain": [
       "80"
      ]
     },
     "execution_count": 2,
     "metadata": {},
     "output_type": "execute_result"
    }
   ],
   "source": [
    "from itertools import product\n",
    "\n",
    "size = [2**i for i in range(13, 14)]\n",
    "# size = [200]\n",
    "lr = [0.2 * i for i in range(4, 6)]\n",
    "sr = [0.5 * i for i in range(1, 5)]\n",
    "# input_scaling = [10**i for i in range(-1, 2)]\n",
    "input_scaling = [1.0, 10.0]\n",
    "ridge = [10 ** -i for i in range(5, 10)]\n",
    "\n",
    "combinations = list(product(size, lr, sr, input_scaling, ridge))\n",
    "len(combinations)"
   ]
  },
  {
   "cell_type": "code",
   "execution_count": 3,
   "id": "adf3f47b",
   "metadata": {},
   "outputs": [
    {
     "name": "stderr",
     "output_type": "stream",
     "text": [
      "/Users/conrad/Projects/conradbzura/ml/.venv/lib/python3.13/site-packages/reservoirpy/nodes/readouts/ridge.py:17: LinAlgWarning: Ill-conditioned matrix (rcond=1.81279e-17): result may not be accurate.\n",
      "  return linalg.solve(XXT + ridge, YXT.T, assume_a=\"sym\")\n",
      "/Users/conrad/Projects/conradbzura/ml/.venv/lib/python3.13/site-packages/reservoirpy/nodes/readouts/ridge.py:17: LinAlgWarning: Ill-conditioned matrix (rcond=1.81327e-17): result may not be accurate.\n",
      "  return linalg.solve(XXT + ridge, YXT.T, assume_a=\"sym\")\n",
      "/Users/conrad/Projects/conradbzura/ml/.venv/lib/python3.13/site-packages/reservoirpy/nodes/readouts/ridge.py:17: LinAlgWarning: Ill-conditioned matrix (rcond=1.81375e-17): result may not be accurate.\n",
      "  return linalg.solve(XXT + ridge, YXT.T, assume_a=\"sym\")\n",
      "/Users/conrad/Projects/conradbzura/ml/.venv/lib/python3.13/site-packages/reservoirpy/nodes/readouts/ridge.py:17: LinAlgWarning: Ill-conditioned matrix (rcond=2.38911e-17): result may not be accurate.\n",
      "  return linalg.solve(XXT + ridge, YXT.T, assume_a=\"sym\")\n",
      "/Users/conrad/Projects/conradbzura/ml/.venv/lib/python3.13/site-packages/reservoirpy/nodes/readouts/ridge.py:17: LinAlgWarning: Ill-conditioned matrix (rcond=2.38838e-17): result may not be accurate.\n",
      "  return linalg.solve(XXT + ridge, YXT.T, assume_a=\"sym\")\n",
      "/Users/conrad/Projects/conradbzura/ml/.venv/lib/python3.13/site-packages/reservoirpy/nodes/readouts/ridge.py:17: LinAlgWarning: Ill-conditioned matrix (rcond=2.39071e-17): result may not be accurate.\n",
      "  return linalg.solve(XXT + ridge, YXT.T, assume_a=\"sym\")\n",
      "/Users/conrad/Projects/conradbzura/ml/.venv/lib/python3.13/site-packages/reservoirpy/observables.py:461: SyntaxWarning: invalid escape sequence '\\c'\n",
      "  :math:`lr \\cdot W + (1-lr) \\cdot I_{n}`.\n"
     ]
    },
    {
     "ename": "KeyboardInterrupt",
     "evalue": "",
     "output_type": "error",
     "traceback": [
      "\u001b[31m---------------------------------------------------------------------------\u001b[39m",
      "\u001b[31mKeyboardInterrupt\u001b[39m                         Traceback (most recent call last)",
      "\u001b[36mCell\u001b[39m\u001b[36m \u001b[39m\u001b[32mIn[3]\u001b[39m\u001b[32m, line 22\u001b[39m\n\u001b[32m     20\u001b[39m diff = \u001b[38;5;28;01mNone\u001b[39;00m\n\u001b[32m     21\u001b[39m \u001b[38;5;28;01mfor\u001b[39;00m x, y, z \u001b[38;5;129;01min\u001b[39;00m samples():\n\u001b[32m---> \u001b[39m\u001b[32m22\u001b[39m     z_ = \u001b[43mevaluate\u001b[49m\u001b[43m(\u001b[49m\u001b[43mx\u001b[49m\u001b[43m,\u001b[49m\u001b[43m \u001b[49m\u001b[43my\u001b[49m\u001b[43m,\u001b[49m\u001b[43m \u001b[49m\u001b[43mreservoir\u001b[49m\u001b[43m=\u001b[49m\u001b[43mreservoir\u001b[49m\u001b[43m,\u001b[49m\u001b[43m \u001b[49m\u001b[43mridge\u001b[49m\u001b[43m=\u001b[49m\u001b[43mridge\u001b[49m\u001b[43m,\u001b[49m\u001b[43m \u001b[49m\u001b[43mwarmup\u001b[49m\u001b[43m=\u001b[49m\u001b[32;43m20\u001b[39;49m\u001b[43m)\u001b[49m\n\u001b[32m     23\u001b[39m     \u001b[38;5;28;01mif\u001b[39;00m zz_ \u001b[38;5;129;01mis\u001b[39;00m \u001b[38;5;28;01mNone\u001b[39;00m:\n\u001b[32m     24\u001b[39m         zz_ = z_\n",
      "\u001b[36mFile \u001b[39m\u001b[32m~/Projects/conradbzura/ml/main.py:52\u001b[39m, in \u001b[36mevaluate\u001b[39m\u001b[34m(x, y, reservoir, ridge, warmup)\u001b[39m\n\u001b[32m     51\u001b[39m \u001b[38;5;28;01mdef\u001b[39;00m\u001b[38;5;250m \u001b[39m\u001b[34mevaluate\u001b[39m(x, y, *, reservoir: Reservoir, ridge: Ridge, warmup: \u001b[38;5;28mint\u001b[39m):\n\u001b[32m---> \u001b[39m\u001b[32m52\u001b[39m     z = \u001b[43m(\u001b[49m\u001b[43mreservoir\u001b[49m\u001b[43m \u001b[49m\u001b[43m>>\u001b[49m\u001b[43m \u001b[49m\u001b[43mridge\u001b[49m\u001b[43m)\u001b[49m\u001b[43m.\u001b[49m\u001b[43mfit\u001b[49m\u001b[43m(\u001b[49m\u001b[43mx\u001b[49m\u001b[43m,\u001b[49m\u001b[43m \u001b[49m\u001b[43my\u001b[49m\u001b[43m,\u001b[49m\u001b[43m \u001b[49m\u001b[43mwarmup\u001b[49m\u001b[43m=\u001b[49m\u001b[43mwarmup\u001b[49m\u001b[43m,\u001b[49m\u001b[43m \u001b[49m\u001b[43mreset\u001b[49m\u001b[43m=\u001b[49m\u001b[38;5;28;43;01mTrue\u001b[39;49;00m\u001b[43m)\u001b[49m(y[-\u001b[32m1\u001b[39m])\n\u001b[32m     53\u001b[39m     z[z[:, HIGH] < \u001b[32m0\u001b[39m, HIGH] = \u001b[32m0\u001b[39m\n\u001b[32m     54\u001b[39m     z[z[:, LOW] < \u001b[32m0\u001b[39m, LOW] = \u001b[32m0\u001b[39m\n",
      "\u001b[36mFile \u001b[39m\u001b[32m~/Projects/conradbzura/ml/.venv/lib/python3.13/site-packages/reservoirpy/model.py:1089\u001b[39m, in \u001b[36mModel.fit\u001b[39m\u001b[34m(self, X, Y, warmup, force_teachers, from_state, stateful, reset)\u001b[39m\n\u001b[32m   1082\u001b[39m     \u001b[38;5;28;01mraise\u001b[39;00m \u001b[38;5;167;01mTypeError\u001b[39;00m(\n\u001b[32m   1083\u001b[39m         \u001b[33mf\u001b[39m\u001b[33m\"\u001b[39m\u001b[33mImpossible to fit model \u001b[39m\u001b[38;5;132;01m{\u001b[39;00m\u001b[38;5;28mself\u001b[39m\u001b[38;5;132;01m}\u001b[39;00m\u001b[33m offline: \u001b[39m\u001b[33m\"\u001b[39m\n\u001b[32m   1084\u001b[39m         \u001b[33m\"\u001b[39m\u001b[33mno offline nodes found in model.\u001b[39m\u001b[33m\"\u001b[39m\n\u001b[32m   1085\u001b[39m     )\n\u001b[32m   1087\u001b[39m X, Y = to_data_mapping(\u001b[38;5;28mself\u001b[39m, X, Y)\n\u001b[32m-> \u001b[39m\u001b[32m1089\u001b[39m \u001b[38;5;28;43mself\u001b[39;49m\u001b[43m.\u001b[49m\u001b[43m_initialize_on_sequence\u001b[49m\u001b[43m(\u001b[49m\u001b[43mX\u001b[49m\u001b[43m[\u001b[49m\u001b[32;43m0\u001b[39;49m\u001b[43m]\u001b[49m\u001b[43m,\u001b[49m\u001b[43m \u001b[49m\u001b[43mY\u001b[49m\u001b[43m[\u001b[49m\u001b[32;43m0\u001b[39;49m\u001b[43m]\u001b[49m\u001b[43m)\u001b[49m\n\u001b[32m   1090\u001b[39m \u001b[38;5;28mself\u001b[39m.initialize_buffers()\n\u001b[32m   1092\u001b[39m subgraphs = get_offline_subgraphs(\u001b[38;5;28mself\u001b[39m.nodes, \u001b[38;5;28mself\u001b[39m.edges)\n",
      "\u001b[36mFile \u001b[39m\u001b[32m~/Projects/conradbzura/ml/.venv/lib/python3.13/site-packages/reservoirpy/model.py:390\u001b[39m, in \u001b[36mModel._initialize_on_sequence\u001b[39m\u001b[34m(self, X, Y)\u001b[39m\n\u001b[32m    387\u001b[39m     \u001b[38;5;28;01melse\u001b[39;00m:\n\u001b[32m    388\u001b[39m         y_init = np.atleast_2d(Y[\u001b[32m0\u001b[39m])\n\u001b[32m--> \u001b[39m\u001b[32m390\u001b[39m \u001b[38;5;28;43mself\u001b[39;49m\u001b[43m.\u001b[49m\u001b[43minitialize\u001b[49m\u001b[43m(\u001b[49m\u001b[43mx_init\u001b[49m\u001b[43m,\u001b[49m\u001b[43m \u001b[49m\u001b[43my_init\u001b[49m\u001b[43m)\u001b[49m\n",
      "\u001b[36mFile \u001b[39m\u001b[32m~/Projects/conradbzura/ml/.venv/lib/python3.13/site-packages/reservoirpy/model.py:776\u001b[39m, in \u001b[36mModel.initialize\u001b[39m\u001b[34m(self, x, y)\u001b[39m\n\u001b[32m    758\u001b[39m \u001b[38;5;250m\u001b[39m\u001b[33;03m\"\"\"Call the Model initializers on some data points.\u001b[39;00m\n\u001b[32m    759\u001b[39m \u001b[33;03mModel will be virtually run to infer shapes of all nodes given\u001b[39;00m\n\u001b[32m    760\u001b[39m \u001b[33;03minputs and targets vectors.\u001b[39;00m\n\u001b[32m   (...)\u001b[39m\u001b[32m    773\u001b[39m \u001b[33;03m    Initialized Model.\u001b[39;00m\n\u001b[32m    774\u001b[39m \u001b[33;03m\"\"\"\u001b[39;00m\n\u001b[32m    775\u001b[39m \u001b[38;5;28mself\u001b[39m._is_initialized = \u001b[38;5;28;01mFalse\u001b[39;00m\n\u001b[32m--> \u001b[39m\u001b[32m776\u001b[39m \u001b[38;5;28;43mself\u001b[39;49m\u001b[43m.\u001b[49m\u001b[43m_initializer\u001b[49m\u001b[43m(\u001b[49m\u001b[38;5;28;43mself\u001b[39;49m\u001b[43m,\u001b[49m\u001b[43m \u001b[49m\u001b[43mx\u001b[49m\u001b[43m=\u001b[49m\u001b[43mx\u001b[49m\u001b[43m,\u001b[49m\u001b[43m \u001b[49m\u001b[43my\u001b[49m\u001b[43m=\u001b[49m\u001b[43my\u001b[49m\u001b[43m)\u001b[49m\n\u001b[32m    777\u001b[39m \u001b[38;5;28mself\u001b[39m.reset()\n\u001b[32m    778\u001b[39m \u001b[38;5;28mself\u001b[39m._is_initialized = \u001b[38;5;28;01mTrue\u001b[39;00m\n",
      "\u001b[36mFile \u001b[39m\u001b[32m~/Projects/conradbzura/ml/.venv/lib/python3.13/site-packages/reservoirpy/model.py:264\u001b[39m, in \u001b[36minitializer\u001b[39m\u001b[34m(model, x, y)\u001b[39m\n\u001b[32m    261\u001b[39m \u001b[38;5;66;03m# first, probe network to init forward flow\u001b[39;00m\n\u001b[32m    262\u001b[39m \u001b[38;5;66;03m# (no real call, only zero states)\u001b[39;00m\n\u001b[32m    263\u001b[39m \u001b[38;5;28;01mfor\u001b[39;00m node \u001b[38;5;129;01min\u001b[39;00m model.nodes:\n\u001b[32m--> \u001b[39m\u001b[32m264\u001b[39m     \u001b[43mnode\u001b[49m\u001b[43m.\u001b[49m\u001b[43minitialize\u001b[49m\u001b[43m(\u001b[49m\u001b[43mx\u001b[49m\u001b[43m=\u001b[49m\u001b[43mdata\u001b[49m\u001b[43m[\u001b[49m\u001b[43mnode\u001b[49m\u001b[43m]\u001b[49m\u001b[43m.\u001b[49m\u001b[43mx\u001b[49m\u001b[43m,\u001b[49m\u001b[43m \u001b[49m\u001b[43my\u001b[49m\u001b[43m=\u001b[49m\u001b[43mdata\u001b[49m\u001b[43m[\u001b[49m\u001b[43mnode\u001b[49m\u001b[43m]\u001b[49m\u001b[43m.\u001b[49m\u001b[43my\u001b[49m\u001b[43m)\u001b[49m\n\u001b[32m    266\u001b[39m \u001b[38;5;66;03m# second, probe feedback demanding nodes to\u001b[39;00m\n\u001b[32m    267\u001b[39m \u001b[38;5;66;03m# init feedback flow\u001b[39;00m\n\u001b[32m    268\u001b[39m \u001b[38;5;28;01mfor\u001b[39;00m fb_node \u001b[38;5;129;01min\u001b[39;00m model.feedback_nodes:\n",
      "\u001b[36mFile \u001b[39m\u001b[32m~/Projects/conradbzura/ml/.venv/lib/python3.13/site-packages/reservoirpy/node.py:656\u001b[39m, in \u001b[36mNode.initialize\u001b[39m\u001b[34m(self, x, y)\u001b[39m\n\u001b[32m    654\u001b[39m \u001b[38;5;28;01mif\u001b[39;00m \u001b[38;5;129;01mnot\u001b[39;00m \u001b[38;5;28mself\u001b[39m.is_initialized:\n\u001b[32m    655\u001b[39m     x_init, y_init = _init_vectors_placeholders(\u001b[38;5;28mself\u001b[39m, x, y)\n\u001b[32m--> \u001b[39m\u001b[32m656\u001b[39m     \u001b[38;5;28;43mself\u001b[39;49m\u001b[43m.\u001b[49m\u001b[43m_initializer\u001b[49m\u001b[43m(\u001b[49m\u001b[38;5;28;43mself\u001b[39;49m\u001b[43m,\u001b[49m\u001b[43m \u001b[49m\u001b[43mx\u001b[49m\u001b[43m=\u001b[49m\u001b[43mx_init\u001b[49m\u001b[43m,\u001b[49m\u001b[43m \u001b[49m\u001b[43my\u001b[49m\u001b[43m=\u001b[49m\u001b[43my_init\u001b[49m\u001b[43m)\u001b[49m\n\u001b[32m    657\u001b[39m     \u001b[38;5;28mself\u001b[39m.reset()\n\u001b[32m    658\u001b[39m     \u001b[38;5;28mself\u001b[39m._is_initialized = \u001b[38;5;28;01mTrue\u001b[39;00m\n",
      "\u001b[36mFile \u001b[39m\u001b[32m~/Projects/conradbzura/ml/.venv/lib/python3.13/site-packages/reservoirpy/nodes/reservoirs/base.py:138\u001b[39m, in \u001b[36minitialize\u001b[39m\u001b[34m(reservoir, x, y, sr, input_scaling, bias_scaling, input_connectivity, rc_connectivity, W_init, Win_init, bias_init, input_bias, seed)\u001b[39m\n\u001b[32m    135\u001b[39m         reservoir.hypers[\u001b[33m\"\u001b[39m\u001b[33munits\u001b[39m\u001b[33m\"\u001b[39m] = W.shape[\u001b[32m0\u001b[39m]\n\u001b[32m    137\u001b[39m \u001b[38;5;28;01melif\u001b[39;00m \u001b[38;5;28mcallable\u001b[39m(W_init):\n\u001b[32m--> \u001b[39m\u001b[32m138\u001b[39m     W = \u001b[43mW_init\u001b[49m\u001b[43m(\u001b[49m\n\u001b[32m    139\u001b[39m \u001b[43m        \u001b[49m\u001b[43mreservoir\u001b[49m\u001b[43m.\u001b[49m\u001b[43moutput_dim\u001b[49m\u001b[43m,\u001b[49m\n\u001b[32m    140\u001b[39m \u001b[43m        \u001b[49m\u001b[43mreservoir\u001b[49m\u001b[43m.\u001b[49m\u001b[43moutput_dim\u001b[49m\u001b[43m,\u001b[49m\n\u001b[32m    141\u001b[39m \u001b[43m        \u001b[49m\u001b[43msr\u001b[49m\u001b[43m=\u001b[49m\u001b[43msr\u001b[49m\u001b[43m,\u001b[49m\n\u001b[32m    142\u001b[39m \u001b[43m        \u001b[49m\u001b[43mconnectivity\u001b[49m\u001b[43m=\u001b[49m\u001b[43mrc_connectivity\u001b[49m\u001b[43m,\u001b[49m\n\u001b[32m    143\u001b[39m \u001b[43m        \u001b[49m\u001b[43mdtype\u001b[49m\u001b[43m=\u001b[49m\u001b[43mdtype\u001b[49m\u001b[43m,\u001b[49m\n\u001b[32m    144\u001b[39m \u001b[43m        \u001b[49m\u001b[43mseed\u001b[49m\u001b[43m=\u001b[49m\u001b[43mseed\u001b[49m\u001b[43m,\u001b[49m\n\u001b[32m    145\u001b[39m \u001b[43m    \u001b[49m\u001b[43m)\u001b[49m\n\u001b[32m    146\u001b[39m \u001b[38;5;28;01melse\u001b[39;00m:\n\u001b[32m    147\u001b[39m     \u001b[38;5;28;01mraise\u001b[39;00m \u001b[38;5;167;01mValueError\u001b[39;00m(dtype_msg.format(\u001b[38;5;28mstr\u001b[39m(\u001b[38;5;28mtype\u001b[39m(W_init)), reservoir.name, \u001b[33m\"\u001b[39m\u001b[33mW\u001b[39m\u001b[33m\"\u001b[39m))\n",
      "\u001b[36mFile \u001b[39m\u001b[32m~/Projects/conradbzura/ml/.venv/lib/python3.13/site-packages/reservoirpy/mat_gen.py:257\u001b[39m, in \u001b[36mInitializer.__call__\u001b[39m\u001b[34m(self, *shape, **kwargs)\u001b[39m\n\u001b[32m    255\u001b[39m \u001b[38;5;28;01mif\u001b[39;00m \u001b[38;5;28mlen\u001b[39m(shape) > \u001b[32m0\u001b[39m:\n\u001b[32m    256\u001b[39m     \u001b[38;5;28;01mif\u001b[39;00m init._autorize_rescaling:\n\u001b[32m--> \u001b[39m\u001b[32m257\u001b[39m         \u001b[38;5;28;01mreturn\u001b[39;00m \u001b[43minit\u001b[49m\u001b[43m.\u001b[49m\u001b[43m_func_post_process\u001b[49m\u001b[43m(\u001b[49m\u001b[43m*\u001b[49m\u001b[43mshape\u001b[49m\u001b[43m,\u001b[49m\u001b[43m \u001b[49m\u001b[43m*\u001b[49m\u001b[43m*\u001b[49m\u001b[43minit\u001b[49m\u001b[43m.\u001b[49m\u001b[43m_kwargs\u001b[49m\u001b[43m)\u001b[49m\n\u001b[32m    258\u001b[39m     \u001b[38;5;28;01melse\u001b[39;00m:\n\u001b[32m    259\u001b[39m         \u001b[38;5;28;01mreturn\u001b[39;00m init._func(*shape, **init._kwargs)\n",
      "\u001b[36mFile \u001b[39m\u001b[32m~/Projects/conradbzura/ml/.venv/lib/python3.13/site-packages/reservoirpy/mat_gen.py:275\u001b[39m, in \u001b[36mInitializer._func_post_process\u001b[39m\u001b[34m(self, sr, input_scaling, *shape, **kwargs)\u001b[39m\n\u001b[32m    269\u001b[39m     \u001b[38;5;28;01mraise\u001b[39;00m \u001b[38;5;167;01mValueError\u001b[39;00m(\n\u001b[32m    270\u001b[39m         \u001b[33m\"\u001b[39m\u001b[33m'\u001b[39m\u001b[33msr\u001b[39m\u001b[33m'\u001b[39m\u001b[33m and \u001b[39m\u001b[33m'\u001b[39m\u001b[33minput_scaling\u001b[39m\u001b[33m'\u001b[39m\u001b[33m parameters are mutually exclusive for a \u001b[39m\u001b[33m\"\u001b[39m\n\u001b[32m    271\u001b[39m         \u001b[33m\"\u001b[39m\u001b[33mgiven matrix.\u001b[39m\u001b[33m\"\u001b[39m\n\u001b[32m    272\u001b[39m     )\n\u001b[32m    274\u001b[39m \u001b[38;5;28;01mif\u001b[39;00m sr \u001b[38;5;129;01mis\u001b[39;00m \u001b[38;5;129;01mnot\u001b[39;00m \u001b[38;5;28;01mNone\u001b[39;00m:\n\u001b[32m--> \u001b[39m\u001b[32m275\u001b[39m     \u001b[38;5;28;01mreturn\u001b[39;00m \u001b[43m_scale_spectral_radius\u001b[49m\u001b[43m(\u001b[49m\u001b[38;5;28;43mself\u001b[39;49m\u001b[43m.\u001b[49m\u001b[43m_func\u001b[49m\u001b[43m,\u001b[49m\u001b[43m \u001b[49m\u001b[43mshape\u001b[49m\u001b[43m,\u001b[49m\u001b[43m \u001b[49m\u001b[43msr\u001b[49m\u001b[43m,\u001b[49m\u001b[43m \u001b[49m\u001b[43m*\u001b[49m\u001b[43m*\u001b[49m\u001b[43mkwargs\u001b[49m\u001b[43m)\u001b[49m\n\u001b[32m    276\u001b[39m \u001b[38;5;28;01melif\u001b[39;00m input_scaling \u001b[38;5;129;01mis\u001b[39;00m \u001b[38;5;129;01mnot\u001b[39;00m \u001b[38;5;28;01mNone\u001b[39;00m:\n\u001b[32m    277\u001b[39m     \u001b[38;5;28;01mreturn\u001b[39;00m _scale_inputs(\u001b[38;5;28mself\u001b[39m._func, shape, input_scaling, **kwargs)\n",
      "\u001b[36mFile \u001b[39m\u001b[32m~/Projects/conradbzura/ml/.venv/lib/python3.13/site-packages/reservoirpy/mat_gen.py:369\u001b[39m, in \u001b[36m_scale_spectral_radius\u001b[39m\u001b[34m(w_init, shape, sr, **kwargs)\u001b[39m\n\u001b[32m    365\u001b[39m \u001b[38;5;28;01mwhile\u001b[39;00m \u001b[38;5;129;01mnot\u001b[39;00m convergence:\n\u001b[32m    366\u001b[39m     \u001b[38;5;66;03m# make sure the eigenvalues are reachable.\u001b[39;00m\n\u001b[32m    367\u001b[39m     \u001b[38;5;66;03m# (maybe find a better way to do this on day)\u001b[39;00m\n\u001b[32m    368\u001b[39m     \u001b[38;5;28;01mtry\u001b[39;00m:\n\u001b[32m--> \u001b[39m\u001b[32m369\u001b[39m         current_sr = \u001b[43mspectral_radius\u001b[49m\u001b[43m(\u001b[49m\u001b[43mw\u001b[49m\u001b[43m)\u001b[49m\n\u001b[32m    370\u001b[39m         \u001b[38;5;28;01mif\u001b[39;00m -_epsilon < current_sr < _epsilon:\n\u001b[32m    371\u001b[39m             current_sr = _epsilon  \u001b[38;5;66;03m# avoid div by zero exceptions.\u001b[39;00m\n",
      "\u001b[36mFile \u001b[39m\u001b[32m~/Projects/conradbzura/ml/.venv/lib/python3.13/site-packages/reservoirpy/observables.py:105\u001b[39m, in \u001b[36mspectral_radius\u001b[39m\u001b[34m(W, maxiter)\u001b[39m\n\u001b[32m    100\u001b[39m     \u001b[38;5;28;01mif\u001b[39;00m maxiter \u001b[38;5;129;01mis\u001b[39;00m \u001b[38;5;28;01mNone\u001b[39;00m:\n\u001b[32m    101\u001b[39m         maxiter = W.shape[\u001b[32m0\u001b[39m] * \u001b[32m20\u001b[39m\n\u001b[32m    103\u001b[39m     \u001b[38;5;28;01mreturn\u001b[39;00m \u001b[38;5;28mmax\u001b[39m(\n\u001b[32m    104\u001b[39m         \u001b[38;5;28mabs\u001b[39m(\n\u001b[32m--> \u001b[39m\u001b[32m105\u001b[39m             \u001b[43meigs\u001b[49m\u001b[43m(\u001b[49m\n\u001b[32m    106\u001b[39m \u001b[43m                \u001b[49m\u001b[43mW\u001b[49m\u001b[43m,\u001b[49m\n\u001b[32m    107\u001b[39m \u001b[43m                \u001b[49m\u001b[43mk\u001b[49m\u001b[43m=\u001b[49m\u001b[32;43m1\u001b[39;49m\u001b[43m,\u001b[49m\n\u001b[32m    108\u001b[39m \u001b[43m                \u001b[49m\u001b[43mwhich\u001b[49m\u001b[43m=\u001b[49m\u001b[33;43m\"\u001b[39;49m\u001b[33;43mLM\u001b[39;49m\u001b[33;43m\"\u001b[39;49m\u001b[43m,\u001b[49m\n\u001b[32m    109\u001b[39m \u001b[43m                \u001b[49m\u001b[43mmaxiter\u001b[49m\u001b[43m=\u001b[49m\u001b[43mmaxiter\u001b[49m\u001b[43m,\u001b[49m\n\u001b[32m    110\u001b[39m \u001b[43m                \u001b[49m\u001b[43mreturn_eigenvectors\u001b[49m\u001b[43m=\u001b[49m\u001b[38;5;28;43;01mFalse\u001b[39;49;00m\u001b[43m,\u001b[49m\n\u001b[32m    111\u001b[39m \u001b[43m                \u001b[49m\u001b[43mv0\u001b[49m\u001b[43m=\u001b[49m\u001b[43mnp\u001b[49m\u001b[43m.\u001b[49m\u001b[43mones\u001b[49m\u001b[43m(\u001b[49m\u001b[43mW\u001b[49m\u001b[43m.\u001b[49m\u001b[43mshape\u001b[49m\u001b[43m[\u001b[49m\u001b[32;43m0\u001b[39;49m\u001b[43m]\u001b[49m\u001b[43m,\u001b[49m\u001b[43m \u001b[49m\u001b[43mW\u001b[49m\u001b[43m.\u001b[49m\u001b[43mdtype\u001b[49m\u001b[43m)\u001b[49m\u001b[43m,\u001b[49m\n\u001b[32m    112\u001b[39m \u001b[43m            \u001b[49m\u001b[43m)\u001b[49m\n\u001b[32m    113\u001b[39m         )\n\u001b[32m    114\u001b[39m     )\n\u001b[32m    116\u001b[39m \u001b[38;5;28;01mreturn\u001b[39;00m \u001b[38;5;28mmax\u001b[39m(\u001b[38;5;28mabs\u001b[39m(linalg.eig(W)[\u001b[32m0\u001b[39m]))\n",
      "\u001b[36mFile \u001b[39m\u001b[32m~/Projects/conradbzura/ml/.venv/lib/python3.13/site-packages/scipy/sparse/linalg/_eigen/arpack/arpack.py:1354\u001b[39m, in \u001b[36meigs\u001b[39m\u001b[34m(A, k, M, sigma, which, v0, ncv, maxiter, tol, return_eigenvectors, Minv, OPinv, OPpart)\u001b[39m\n\u001b[32m   1352\u001b[39m \u001b[38;5;28;01mwith\u001b[39;00m _ARPACK_LOCK:\n\u001b[32m   1353\u001b[39m     \u001b[38;5;28;01mwhile\u001b[39;00m \u001b[38;5;129;01mnot\u001b[39;00m params.converged:\n\u001b[32m-> \u001b[39m\u001b[32m1354\u001b[39m         \u001b[43mparams\u001b[49m\u001b[43m.\u001b[49m\u001b[43miterate\u001b[49m\u001b[43m(\u001b[49m\u001b[43m)\u001b[49m\n\u001b[32m   1356\u001b[39m     \u001b[38;5;28;01mreturn\u001b[39;00m params.extract(return_eigenvectors)\n",
      "\u001b[36mFile \u001b[39m\u001b[32m~/Projects/conradbzura/ml/.venv/lib/python3.13/site-packages/scipy/sparse/linalg/_eigen/arpack/arpack.py:752\u001b[39m, in \u001b[36m_UnsymmetricArpackParams.iterate\u001b[39m\u001b[34m(self)\u001b[39m\n\u001b[32m    749\u001b[39m \u001b[38;5;28;01melif\u001b[39;00m \u001b[38;5;28mself\u001b[39m.ido == \u001b[32m1\u001b[39m:\n\u001b[32m    750\u001b[39m     \u001b[38;5;66;03m# compute y = Op*x\u001b[39;00m\n\u001b[32m    751\u001b[39m     \u001b[38;5;28;01mif\u001b[39;00m \u001b[38;5;28mself\u001b[39m.mode \u001b[38;5;129;01min\u001b[39;00m (\u001b[32m1\u001b[39m, \u001b[32m2\u001b[39m):\n\u001b[32m--> \u001b[39m\u001b[32m752\u001b[39m         \u001b[38;5;28mself\u001b[39m.workd[yslice] = \u001b[38;5;28;43mself\u001b[39;49m\u001b[43m.\u001b[49m\u001b[43mOP\u001b[49m\u001b[43m(\u001b[49m\u001b[38;5;28;43mself\u001b[39;49m\u001b[43m.\u001b[49m\u001b[43mworkd\u001b[49m\u001b[43m[\u001b[49m\u001b[43mxslice\u001b[49m\u001b[43m]\u001b[49m\u001b[43m)\u001b[49m\n\u001b[32m    753\u001b[39m     \u001b[38;5;28;01melse\u001b[39;00m:\n\u001b[32m    754\u001b[39m         Bxslice = \u001b[38;5;28mslice\u001b[39m(\u001b[38;5;28mself\u001b[39m.ipntr[\u001b[32m2\u001b[39m] - \u001b[32m1\u001b[39m, \u001b[38;5;28mself\u001b[39m.ipntr[\u001b[32m2\u001b[39m] - \u001b[32m1\u001b[39m + \u001b[38;5;28mself\u001b[39m.n)\n",
      "\u001b[36mFile \u001b[39m\u001b[32m~/Projects/conradbzura/ml/.venv/lib/python3.13/site-packages/scipy/sparse/linalg/_interface.py:258\u001b[39m, in \u001b[36mLinearOperator.matvec\u001b[39m\u001b[34m(self, x)\u001b[39m\n\u001b[32m    255\u001b[39m \u001b[38;5;28;01mif\u001b[39;00m x.shape != (N,) \u001b[38;5;129;01mand\u001b[39;00m x.shape != (N,\u001b[32m1\u001b[39m):\n\u001b[32m    256\u001b[39m     \u001b[38;5;28;01mraise\u001b[39;00m \u001b[38;5;167;01mValueError\u001b[39;00m(\u001b[33m'\u001b[39m\u001b[33mdimension mismatch\u001b[39m\u001b[33m'\u001b[39m)\n\u001b[32m--> \u001b[39m\u001b[32m258\u001b[39m y = \u001b[38;5;28;43mself\u001b[39;49m\u001b[43m.\u001b[49m\u001b[43m_matvec\u001b[49m\u001b[43m(\u001b[49m\u001b[43mx\u001b[49m\u001b[43m)\u001b[49m\n\u001b[32m    260\u001b[39m \u001b[38;5;28;01mif\u001b[39;00m \u001b[38;5;28misinstance\u001b[39m(x, np.matrix):\n\u001b[32m    261\u001b[39m     y = asmatrix(y)\n",
      "\u001b[36mFile \u001b[39m\u001b[32m~/Projects/conradbzura/ml/.venv/lib/python3.13/site-packages/scipy/sparse/linalg/_interface.py:225\u001b[39m, in \u001b[36mLinearOperator._matvec\u001b[39m\u001b[34m(self, x)\u001b[39m\n\u001b[32m    215\u001b[39m \u001b[38;5;28;01mdef\u001b[39;00m\u001b[38;5;250m \u001b[39m\u001b[34m_matvec\u001b[39m(\u001b[38;5;28mself\u001b[39m, x):\n\u001b[32m    216\u001b[39m \u001b[38;5;250m    \u001b[39m\u001b[33;03m\"\"\"Default matrix-vector multiplication handler.\u001b[39;00m\n\u001b[32m    217\u001b[39m \n\u001b[32m    218\u001b[39m \u001b[33;03m    If self is a linear operator of shape (M, N), then this method will\u001b[39;00m\n\u001b[32m   (...)\u001b[39m\u001b[32m    223\u001b[39m \u001b[33;03m    will define matrix-vector multiplication as well.\u001b[39;00m\n\u001b[32m    224\u001b[39m \u001b[33;03m    \"\"\"\u001b[39;00m\n\u001b[32m--> \u001b[39m\u001b[32m225\u001b[39m     \u001b[38;5;28;01mreturn\u001b[39;00m \u001b[38;5;28;43mself\u001b[39;49m\u001b[43m.\u001b[49m\u001b[43mmatmat\u001b[49m\u001b[43m(\u001b[49m\u001b[43mx\u001b[49m\u001b[43m.\u001b[49m\u001b[43mreshape\u001b[49m\u001b[43m(\u001b[49m\u001b[43m-\u001b[49m\u001b[32;43m1\u001b[39;49m\u001b[43m,\u001b[49m\u001b[43m \u001b[49m\u001b[32;43m1\u001b[39;49m\u001b[43m)\u001b[49m\u001b[43m)\u001b[49m\n",
      "\u001b[36mFile \u001b[39m\u001b[32m~/Projects/conradbzura/ml/.venv/lib/python3.13/site-packages/scipy/sparse/linalg/_interface.py:366\u001b[39m, in \u001b[36mLinearOperator.matmat\u001b[39m\u001b[34m(self, X)\u001b[39m\n\u001b[32m    363\u001b[39m     \u001b[38;5;28;01mraise\u001b[39;00m \u001b[38;5;167;01mValueError\u001b[39;00m(\u001b[33mf\u001b[39m\u001b[33m'\u001b[39m\u001b[33mdimension mismatch: \u001b[39m\u001b[38;5;132;01m{\u001b[39;00m\u001b[38;5;28mself\u001b[39m.shape\u001b[38;5;132;01m}\u001b[39;00m\u001b[33m, \u001b[39m\u001b[38;5;132;01m{\u001b[39;00mX.shape\u001b[38;5;132;01m}\u001b[39;00m\u001b[33m'\u001b[39m)\n\u001b[32m    365\u001b[39m \u001b[38;5;28;01mtry\u001b[39;00m:\n\u001b[32m--> \u001b[39m\u001b[32m366\u001b[39m     Y = \u001b[38;5;28;43mself\u001b[39;49m\u001b[43m.\u001b[49m\u001b[43m_matmat\u001b[49m\u001b[43m(\u001b[49m\u001b[43mX\u001b[49m\u001b[43m)\u001b[49m\n\u001b[32m    367\u001b[39m \u001b[38;5;28;01mexcept\u001b[39;00m \u001b[38;5;167;01mException\u001b[39;00m \u001b[38;5;28;01mas\u001b[39;00m e:\n\u001b[32m    368\u001b[39m     \u001b[38;5;28;01mif\u001b[39;00m issparse(X) \u001b[38;5;129;01mor\u001b[39;00m is_pydata_spmatrix(X):\n",
      "\u001b[36mFile \u001b[39m\u001b[32m~/Projects/conradbzura/ml/.venv/lib/python3.13/site-packages/scipy/sparse/linalg/_interface.py:825\u001b[39m, in \u001b[36mMatrixLinearOperator._matmat\u001b[39m\u001b[34m(self, X)\u001b[39m\n\u001b[32m    824\u001b[39m \u001b[38;5;28;01mdef\u001b[39;00m\u001b[38;5;250m \u001b[39m\u001b[34m_matmat\u001b[39m(\u001b[38;5;28mself\u001b[39m, X):\n\u001b[32m--> \u001b[39m\u001b[32m825\u001b[39m     \u001b[38;5;28;01mreturn\u001b[39;00m \u001b[38;5;28;43mself\u001b[39;49m\u001b[43m.\u001b[49m\u001b[43mA\u001b[49m\u001b[43m.\u001b[49m\u001b[43mdot\u001b[49m\u001b[43m(\u001b[49m\u001b[43mX\u001b[49m\u001b[43m)\u001b[49m\n",
      "\u001b[36mFile \u001b[39m\u001b[32m~/Projects/conradbzura/ml/.venv/lib/python3.13/site-packages/scipy/sparse/_base.py:497\u001b[39m, in \u001b[36m_spbase.dot\u001b[39m\u001b[34m(self, other)\u001b[39m\n\u001b[32m    495\u001b[39m     \u001b[38;5;28;01mreturn\u001b[39;00m \u001b[38;5;28mself\u001b[39m * other\n\u001b[32m    496\u001b[39m \u001b[38;5;28;01melse\u001b[39;00m:\n\u001b[32m--> \u001b[39m\u001b[32m497\u001b[39m     \u001b[38;5;28;01mreturn\u001b[39;00m \u001b[38;5;28;43mself\u001b[39;49m\u001b[43m \u001b[49m\u001b[43m@\u001b[49m\u001b[43m \u001b[49m\u001b[43mother\u001b[49m\n",
      "\u001b[36mFile \u001b[39m\u001b[32m~/Projects/conradbzura/ml/.venv/lib/python3.13/site-packages/scipy/sparse/_base.py:732\u001b[39m, in \u001b[36m_spbase.__matmul__\u001b[39m\u001b[34m(self, other)\u001b[39m\n\u001b[32m    729\u001b[39m \u001b[38;5;28;01mif\u001b[39;00m isscalarlike(other):\n\u001b[32m    730\u001b[39m     \u001b[38;5;28;01mraise\u001b[39;00m \u001b[38;5;167;01mValueError\u001b[39;00m(\u001b[33m\"\u001b[39m\u001b[33mScalar operands are not allowed, \u001b[39m\u001b[33m\"\u001b[39m\n\u001b[32m    731\u001b[39m                      \u001b[33m\"\u001b[39m\u001b[33muse \u001b[39m\u001b[33m'\u001b[39m\u001b[33m*\u001b[39m\u001b[33m'\u001b[39m\u001b[33m instead\u001b[39m\u001b[33m\"\u001b[39m)\n\u001b[32m--> \u001b[39m\u001b[32m732\u001b[39m \u001b[38;5;28;01mreturn\u001b[39;00m \u001b[38;5;28;43mself\u001b[39;49m\u001b[43m.\u001b[49m\u001b[43m_matmul_dispatch\u001b[49m\u001b[43m(\u001b[49m\u001b[43mother\u001b[49m\u001b[43m)\u001b[49m\n",
      "\u001b[36mFile \u001b[39m\u001b[32m~/Projects/conradbzura/ml/.venv/lib/python3.13/site-packages/scipy/sparse/_base.py:619\u001b[39m, in \u001b[36m_spbase._matmul_dispatch\u001b[39m\u001b[34m(self, other)\u001b[39m\n\u001b[32m    617\u001b[39m     \u001b[38;5;28;01mreturn\u001b[39;00m \u001b[38;5;28mself\u001b[39m._matmul_vector(other)\n\u001b[32m    618\u001b[39m \u001b[38;5;28;01melif\u001b[39;00m other.shape == (N, \u001b[32m1\u001b[39m):\n\u001b[32m--> \u001b[39m\u001b[32m619\u001b[39m     result = \u001b[38;5;28;43mself\u001b[39;49m\u001b[43m.\u001b[49m\u001b[43m_matmul_vector\u001b[49m\u001b[43m(\u001b[49m\u001b[43mother\u001b[49m\u001b[43m.\u001b[49m\u001b[43mravel\u001b[49m\u001b[43m(\u001b[49m\u001b[43m)\u001b[49m\u001b[43m)\u001b[49m\n\u001b[32m    620\u001b[39m     \u001b[38;5;28;01mif\u001b[39;00m \u001b[38;5;28mself\u001b[39m.ndim == \u001b[32m1\u001b[39m:\n\u001b[32m    621\u001b[39m         \u001b[38;5;28;01mreturn\u001b[39;00m result.reshape(\u001b[32m1\u001b[39m)\n",
      "\u001b[36mFile \u001b[39m\u001b[32m~/Projects/conradbzura/ml/.venv/lib/python3.13/site-packages/scipy/sparse/_compressed.py:526\u001b[39m, in \u001b[36m_cs_matrix._matmul_vector\u001b[39m\u001b[34m(self, other)\u001b[39m\n\u001b[32m    524\u001b[39m \u001b[38;5;66;03m# csr_matvec or csc_matvec\u001b[39;00m\n\u001b[32m    525\u001b[39m fn = \u001b[38;5;28mgetattr\u001b[39m(_sparsetools, \u001b[38;5;28mself\u001b[39m.format + \u001b[33m'\u001b[39m\u001b[33m_matvec\u001b[39m\u001b[33m'\u001b[39m)\n\u001b[32m--> \u001b[39m\u001b[32m526\u001b[39m \u001b[43mfn\u001b[49m\u001b[43m(\u001b[49m\u001b[43mM\u001b[49m\u001b[43m,\u001b[49m\u001b[43m \u001b[49m\u001b[43mN\u001b[49m\u001b[43m,\u001b[49m\u001b[43m \u001b[49m\u001b[38;5;28;43mself\u001b[39;49m\u001b[43m.\u001b[49m\u001b[43mindptr\u001b[49m\u001b[43m,\u001b[49m\u001b[43m \u001b[49m\u001b[38;5;28;43mself\u001b[39;49m\u001b[43m.\u001b[49m\u001b[43mindices\u001b[49m\u001b[43m,\u001b[49m\u001b[43m \u001b[49m\u001b[38;5;28;43mself\u001b[39;49m\u001b[43m.\u001b[49m\u001b[43mdata\u001b[49m\u001b[43m,\u001b[49m\u001b[43m \u001b[49m\u001b[43mother\u001b[49m\u001b[43m,\u001b[49m\u001b[43m \u001b[49m\u001b[43mresult\u001b[49m\u001b[43m)\u001b[49m\n\u001b[32m    528\u001b[39m \u001b[38;5;28;01mreturn\u001b[39;00m result[\u001b[32m0\u001b[39m] \u001b[38;5;28;01mif\u001b[39;00m \u001b[38;5;28mself\u001b[39m.ndim == \u001b[32m1\u001b[39m \u001b[38;5;28;01melse\u001b[39;00m result\n",
      "\u001b[31mKeyboardInterrupt\u001b[39m: "
     ]
    }
   ],
   "source": [
    "from reservoirpy.nodes import Reservoir, Ridge\n",
    "from main import samples, evaluate\n",
    "import numpy as np\n",
    "import matplotlib.pyplot as plt\n",
    "\n",
    "diffs = {}\n",
    "zz = None\n",
    "zz_ = None\n",
    "for combination in combinations:\n",
    "    size, lr, sr, input_scaling, ridge = combination\n",
    "    ridge = Ridge(ridge=ridge)\n",
    "    reservoir = Reservoir(\n",
    "        size,\n",
    "        lr=lr,\n",
    "        sr=sr,\n",
    "        input_scaling=input_scaling,\n",
    "        fb_connectivity=0.1,\n",
    "        input_connectivity=0.1,\n",
    "    )\n",
    "    diff = None\n",
    "    for x, y, z in samples():\n",
    "        z_ = evaluate(x, y, reservoir=reservoir, ridge=ridge, warmup=20)\n",
    "        if zz_ is None:\n",
    "            zz_ = z_\n",
    "        else:\n",
    "            zz_ = np.concatenate((zz_, z_), axis=0)\n",
    "        if zz is None:\n",
    "            zz = z\n",
    "        else:\n",
    "            zz = np.concatenate((zz, z), axis=0)\n",
    "        if diff is None:\n",
    "            diff = abs(z - z_)\n",
    "        else:\n",
    "            diff = np.concatenate(abs(z - z_), axis=0)\n",
    "    diffs[combination] = diff\n",
    "\n",
    "m = [a.mean() for a in diffs.values()]\n",
    "s = [a.std() for a in diffs.values()]\n",
    "\n",
    "plt.xlabel(\"$combination$\")\n",
    "plt.plot(m, color=\"blue\", alpha=0.5, label=\"mean\")\n",
    "plt.plot(s, color=\"red\", alpha=0.5, label=\"std\")\n",
    "plt.show()"
   ]
  },
  {
   "cell_type": "code",
   "execution_count": null,
   "id": "f777bc2b",
   "metadata": {},
   "outputs": [],
   "source": [
    "m_ = m.copy()\n",
    "\n",
    "m_sorted = sorted(enumerate(m_), key=lambda x: x[1])\n",
    "\n",
    "s_ = s.copy()\n",
    "\n",
    "s_sorted = sorted(enumerate(s_), key=lambda x: x[1])\n",
    "\n",
    "plt.xlabel(\"$combination$\")\n",
    "plt.plot([x[1] for x in m_sorted], color=\"blue\", alpha=0.5, label=\"mean\")\n",
    "plt.plot([x[1] for x in s_sorted], color=\"red\", alpha=0.5, label=\"std\")\n",
    "plt.show()\n",
    "\n",
    "print(f\"{m_sorted[0]} +/- {s_sorted[0]}\")"
   ]
  },
  {
   "cell_type": "markdown",
   "id": "1423c588",
   "metadata": {},
   "source": [
    "#### Prepare input data"
   ]
  },
  {
   "cell_type": "code",
   "execution_count": null,
   "id": "c231d680",
   "metadata": {},
   "outputs": [],
   "source": [
    "print(z_, z)"
   ]
  }
 ],
 "metadata": {
  "kernelspec": {
   "display_name": ".venv",
   "language": "python",
   "name": "python3"
  },
  "language_info": {
   "codemirror_mode": {
    "name": "ipython",
    "version": 3
   },
   "file_extension": ".py",
   "mimetype": "text/x-python",
   "name": "python",
   "nbconvert_exporter": "python",
   "pygments_lexer": "ipython3",
   "version": "3.13.3"
  }
 },
 "nbformat": 4,
 "nbformat_minor": 5
}
